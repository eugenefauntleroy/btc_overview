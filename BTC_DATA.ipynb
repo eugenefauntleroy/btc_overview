{
 "cells": [
  {
   "cell_type": "code",
   "execution_count": 20,
   "metadata": {},
   "outputs": [
    {
     "name": "stdout",
     "output_type": "stream",
     "text": [
      "                   High          Low         Open        Close       Volume  \\\n",
      "Date                                                                          \n",
      "2020-01-01  7254.330566  7174.944336  7194.892090  7200.174316  18565664996   \n",
      "2020-01-02  7212.155273  6935.270020  7202.551270  6985.470215  20802083465   \n",
      "2020-01-03  7413.715332  6914.996094  6984.428711  7344.884277  28111481031   \n",
      "\n",
      "              Adj Close  \n",
      "Date                     \n",
      "2020-01-01  7200.174316  \n",
      "2020-01-02  6985.470215  \n",
      "2020-01-03  7344.884277  \n",
      "                    High           Low          Open         Close  \\\n",
      "Date                                                                 \n",
      "2020-11-20  18773.226562  17765.794922  17817.083984  18621.314453   \n",
      "2020-11-21  18936.621094  18444.359375  18621.316406  18642.232422   \n",
      "2020-11-22  18687.775391  17709.234375  17802.867188  17929.751953   \n",
      "\n",
      "                 Volume     Adj Close  \n",
      "Date                                   \n",
      "2020-11-20  36992873940  18621.314453  \n",
      "2020-11-21  39650210707  18642.232422  \n",
      "2020-11-22  43181735936  17929.751953  \n"
     ]
    }
   ],
   "source": [
    "import pandas_datareader.data as web\n",
    "import datetime as dt\n",
    "\n",
    "start = dt.datetime(2020, 1, 1)\n",
    "end = dt.datetime(2020, 11, 21)\n",
    "tickers = ['BTC-USD']\n",
    "cc = \"BTC-USD\"\n",
    "\n",
    "for ticker in tickers:\n",
    "    data = web.DataReader(cc, 'yahoo', start, end)\n",
    "    data.to_csv('{}.csv'.format(ticker))\n",
    "print(data.head(3))\n",
    "print(data.tail(3))"
   ]
  },
  {
   "cell_type": "code",
   "execution_count": null,
   "metadata": {},
   "outputs": [],
   "source": [
    "print(data.columns)"
   ]
  },
  {
   "cell_type": "code",
   "execution_count": null,
   "metadata": {},
   "outputs": [],
   "source": []
  }
 ],
 "metadata": {
  "kernelspec": {
   "display_name": "Python 3",
   "language": "python",
   "name": "python3"
  },
  "language_info": {
   "codemirror_mode": {
    "name": "ipython",
    "version": 3
   },
   "file_extension": ".py",
   "mimetype": "text/x-python",
   "name": "python",
   "nbconvert_exporter": "python",
   "pygments_lexer": "ipython3",
   "version": "3.8.5"
  }
 },
 "nbformat": 4,
 "nbformat_minor": 4
}
